{
 "cells": [
  {
   "cell_type": "code",
   "execution_count": 18,
   "id": "5d3428a4-9db7-4c13-92b8-8f3849e58623",
   "metadata": {},
   "outputs": [],
   "source": [
    "#!wget https://raw.githubusercontent.com/DataTalksClub/llm-zoomcamp/main/01-intro/minsearch.py"
   ]
  },
  {
   "cell_type": "code",
   "execution_count": 19,
   "id": "6c475b73-3bf1-46b0-9d6a-e59c574000e6",
   "metadata": {},
   "outputs": [],
   "source": [
    "#!wget https://raw.githubusercontent.com/DataTalksClub/llm-zoomcamp/main/01-intro/documents.json"
   ]
  },
  {
   "cell_type": "code",
   "execution_count": 20,
   "id": "3ed25ee8-5cea-4977-8b47-cb2f5d774756",
   "metadata": {},
   "outputs": [],
   "source": [
    "import minsearch"
   ]
  },
  {
   "cell_type": "code",
   "execution_count": 21,
   "id": "60586208-aeec-417f-b2b1-3641770cbde1",
   "metadata": {},
   "outputs": [],
   "source": [
    "import json\n",
    "with open('documents.json', 'rt') as f_in:\n",
    "    docs_raw=json.load(f_in)"
   ]
  },
  {
   "cell_type": "code",
   "execution_count": 22,
   "id": "55de9c9a-c9e5-4dd4-ad48-40859f535bc6",
   "metadata": {},
   "outputs": [
    {
     "data": {
      "text/plain": [
       "dict_keys(['text', 'section', 'question'])"
      ]
     },
     "execution_count": 22,
     "metadata": {},
     "output_type": "execute_result"
    }
   ],
   "source": [
    "docs_raw[1].keys()\n",
    "docs_raw[1]['documents'][1].keys()"
   ]
  },
  {
   "cell_type": "code",
   "execution_count": 23,
   "id": "2c6bcb56-2bcd-430a-9f67-571b642cb5f8",
   "metadata": {},
   "outputs": [
    {
     "name": "stdout",
     "output_type": "stream",
     "text": [
      "3\n",
      "dict_keys(['course', 'documents'])\n",
      "data-engineering-zoomcamp\n",
      "435\n",
      "dict_keys(['text', 'section', 'question'])\n"
     ]
    }
   ],
   "source": [
    "#docs_raw is a list of 3 dictionaries\n",
    "print(len(docs_raw))\n",
    "# each dictionary has two keys\n",
    "print(docs_raw[0].keys())\n",
    "# course key has one item\n",
    "print(docs_raw[0]['course'])\n",
    "# documents key has a list dictionaries which add up to 435\n",
    "print(len(docs_raw[0]['documents']))\n",
    "# each of those dictionaries has three keys namely\n",
    "print(docs_raw[0]['documents'][0].keys())"
   ]
  },
  {
   "cell_type": "code",
   "execution_count": 24,
   "id": "2c298187-5999-4dff-b00f-c8d311364e12",
   "metadata": {},
   "outputs": [
    {
     "data": {
      "text/plain": [
       "3"
      ]
     },
     "execution_count": 24,
     "metadata": {},
     "output_type": "execute_result"
    }
   ],
   "source": [
    "len(docs_raw)\n",
    "#docs_raw[0]\n",
    "#len(docs_row[0])"
   ]
  },
  {
   "cell_type": "code",
   "execution_count": 25,
   "id": "cff09b4f-a9ba-4d89-a231-aea897ea2b58",
   "metadata": {},
   "outputs": [],
   "source": [
    "documents = []\n",
    "\n",
    "for course_dict in docs_raw:\n",
    "    for doc in course_dict['documents']:\n",
    "        doc['course'] = course_dict['course']\n",
    "        documents.append(doc)"
   ]
  },
  {
   "cell_type": "code",
   "execution_count": 26,
   "id": "3bfe2571-6dbe-4067-9bb9-db38c3ba9680",
   "metadata": {},
   "outputs": [
    {
     "data": {
      "text/plain": [
       "dict_keys(['text', 'section', 'question', 'course'])"
      ]
     },
     "execution_count": 26,
     "metadata": {},
     "output_type": "execute_result"
    }
   ],
   "source": [
    "(documents[0].keys())"
   ]
  },
  {
   "cell_type": "code",
   "execution_count": 27,
   "id": "bff98f48-98bd-42a8-aa54-6aa2c9460b9a",
   "metadata": {},
   "outputs": [],
   "source": [
    "index = minsearch.Index(\n",
    "    text_fields=[\"question\", \"text\", \"section\"],\n",
    "    keyword_fields=[\"course\"]  \n",
    ")\n"
   ]
  },
  {
   "cell_type": "code",
   "execution_count": 28,
   "id": "5de67a61-63f5-4c4a-8600-d8d76ce7a927",
   "metadata": {},
   "outputs": [],
   "source": [
    "q = 'the course has already started, can I still enroll?'"
   ]
  },
  {
   "cell_type": "code",
   "execution_count": 29,
   "id": "ea48767a-aacb-4a63-838a-146cf528ca84",
   "metadata": {},
   "outputs": [
    {
     "data": {
      "text/plain": [
       "<minsearch.Index at 0x784fdffe3f40>"
      ]
     },
     "execution_count": 29,
     "metadata": {},
     "output_type": "execute_result"
    }
   ],
   "source": [
    "index.fit(documents)"
   ]
  },
  {
   "cell_type": "code",
   "execution_count": null,
   "id": "146e901b-6ca3-4cf3-be77-c17d948be2f7",
   "metadata": {},
   "outputs": [],
   "source": []
  },
  {
   "cell_type": "code",
   "execution_count": 30,
   "id": "2b1c35a9-9188-4999-9f10-fba0e5c8595a",
   "metadata": {},
   "outputs": [],
   "source": [
    "boost ={'question':3.0, 'section':0.5}\n",
    "results= index.search(\n",
    "    query=q,\n",
    "    filter_dict={'course':'data-engineering-zoomcamp'},\n",
    "    boost_dict=boost,\n",
    "    num_results=5\n",
    "\n",
    "    \n",
    ")"
   ]
  },
  {
   "cell_type": "code",
   "execution_count": 31,
   "id": "23217abc-6c69-43f6-b22b-f21572e8b9b7",
   "metadata": {},
   "outputs": [
    {
     "data": {
      "text/plain": [
       "[{'text': \"Yes, even if you don't register, you're still eligible to submit the homeworks.\\nBe aware, however, that there will be deadlines for turning in the final projects. So don't leave everything for the last minute.\",\n",
       "  'section': 'General course-related questions',\n",
       "  'question': 'Course - Can I still join the course after the start date?',\n",
       "  'course': 'data-engineering-zoomcamp'},\n",
       " {'text': 'Yes, we will keep all the materials after the course finishes, so you can follow the course at your own pace after it finishes.\\nYou can also continue looking at the homeworks and continue preparing for the next cohort. I guess you can also start working on your final capstone project.',\n",
       "  'section': 'General course-related questions',\n",
       "  'question': 'Course - Can I follow the course after it finishes?',\n",
       "  'course': 'data-engineering-zoomcamp'},\n",
       " {'text': \"The purpose of this document is to capture frequently asked technical questions\\nThe exact day and hour of the course will be 15th Jan 2024 at 17h00. The course will start with the first  “Office Hours'' live.1\\nSubscribe to course public Google Calendar (it works from Desktop only).\\nRegister before the course starts using this link.\\nJoin the course Telegram channel with announcements.\\nDon’t forget to register in DataTalks.Club's Slack and join the channel.\",\n",
       "  'section': 'General course-related questions',\n",
       "  'question': 'Course - When will the course start?',\n",
       "  'course': 'data-engineering-zoomcamp'},\n",
       " {'text': 'You can start by installing and setting up all the dependencies and requirements:\\nGoogle cloud account\\nGoogle Cloud SDK\\nPython 3 (installed with Anaconda)\\nTerraform\\nGit\\nLook over the prerequisites and syllabus to see if you are comfortable with these subjects.',\n",
       "  'section': 'General course-related questions',\n",
       "  'question': 'Course - What can I do before the course starts?',\n",
       "  'course': 'data-engineering-zoomcamp'},\n",
       " {'text': 'Yes, the slack channel remains open and you can ask questions there. But always sDocker containers exit code w search the channel first and second, check the FAQ (this document), most likely all your questions are already answered here.\\nYou can also tag the bot @ZoomcampQABot to help you conduct the search, but don’t rely on its answers 100%, it is pretty good though.',\n",
       "  'section': 'General course-related questions',\n",
       "  'question': 'Course - Can I get support if I take the course in the self-paced mode?',\n",
       "  'course': 'data-engineering-zoomcamp'}]"
      ]
     },
     "execution_count": 31,
     "metadata": {},
     "output_type": "execute_result"
    }
   ],
   "source": [
    "#print(results)\n",
    "results\n"
   ]
  },
  {
   "cell_type": "code",
   "execution_count": 32,
   "id": "a2770c04-8d97-46b2-a65b-39d97d330218",
   "metadata": {},
   "outputs": [],
   "source": [
    "from openai import OpenAI\n",
    "client = OpenAI()\n",
    "#client = OpenAI()"
   ]
  },
  {
   "cell_type": "code",
   "execution_count": 33,
   "id": "e30679e2-98ca-4a79-b45a-97e8c7a76c01",
   "metadata": {},
   "outputs": [],
   "source": [
    "import os\n",
    "os.environ\n",
    "envir=os.environ\n",
    "#envir\n"
   ]
  },
  {
   "cell_type": "code",
   "execution_count": 1,
   "id": "e90911f5-65dc-4f70-82df-4c4d84440dbb",
   "metadata": {},
   "outputs": [],
   "source": [
    "# if 'OPENAI_API_KEY' in envir:\n",
    "#     print(envir['OPENAI_API_KEY'])\n",
    "# else:\n",
    "#     print(False)"
   ]
  },
  {
   "cell_type": "code",
   "execution_count": 35,
   "id": "161eb81f-b52e-4c94-9062-8957a097f207",
   "metadata": {},
   "outputs": [
    {
     "data": {
      "text/plain": [
       "\"It's possible that you can still enroll, but it's dependent on the specific rules and policies of the course you're interested in. Some courses allow late registration, while others do not. We recommend contacting the course administrator or institution offering the course to find out for sure.\""
      ]
     },
     "execution_count": 35,
     "metadata": {},
     "output_type": "execute_result"
    }
   ],
   "source": [
    "response = client.chat.completions.create(\n",
    "    #model='gpt-3.5-turbo',\n",
    "    model='gpt-4',\n",
    "    messages=[{\"role\": \"user\", \"content\": q}]\n",
    ")\n",
    "\n",
    "response.choices[0].message.content"
   ]
  },
  {
   "cell_type": "code",
   "execution_count": 36,
   "id": "24561690-757e-470a-9dcc-9467eeda81b7",
   "metadata": {},
   "outputs": [
    {
     "data": {
      "text/plain": [
       "[{'text': \"Yes, even if you don't register, you're still eligible to submit the homeworks.\\nBe aware, however, that there will be deadlines for turning in the final projects. So don't leave everything for the last minute.\",\n",
       "  'section': 'General course-related questions',\n",
       "  'question': 'Course - Can I still join the course after the start date?',\n",
       "  'course': 'data-engineering-zoomcamp'},\n",
       " {'text': 'Yes, we will keep all the materials after the course finishes, so you can follow the course at your own pace after it finishes.\\nYou can also continue looking at the homeworks and continue preparing for the next cohort. I guess you can also start working on your final capstone project.',\n",
       "  'section': 'General course-related questions',\n",
       "  'question': 'Course - Can I follow the course after it finishes?',\n",
       "  'course': 'data-engineering-zoomcamp'},\n",
       " {'text': \"The purpose of this document is to capture frequently asked technical questions\\nThe exact day and hour of the course will be 15th Jan 2024 at 17h00. The course will start with the first  “Office Hours'' live.1\\nSubscribe to course public Google Calendar (it works from Desktop only).\\nRegister before the course starts using this link.\\nJoin the course Telegram channel with announcements.\\nDon’t forget to register in DataTalks.Club's Slack and join the channel.\",\n",
       "  'section': 'General course-related questions',\n",
       "  'question': 'Course - When will the course start?',\n",
       "  'course': 'data-engineering-zoomcamp'},\n",
       " {'text': 'You can start by installing and setting up all the dependencies and requirements:\\nGoogle cloud account\\nGoogle Cloud SDK\\nPython 3 (installed with Anaconda)\\nTerraform\\nGit\\nLook over the prerequisites and syllabus to see if you are comfortable with these subjects.',\n",
       "  'section': 'General course-related questions',\n",
       "  'question': 'Course - What can I do before the course starts?',\n",
       "  'course': 'data-engineering-zoomcamp'},\n",
       " {'text': 'Yes, the slack channel remains open and you can ask questions there. But always sDocker containers exit code w search the channel first and second, check the FAQ (this document), most likely all your questions are already answered here.\\nYou can also tag the bot @ZoomcampQABot to help you conduct the search, but don’t rely on its answers 100%, it is pretty good though.',\n",
       "  'section': 'General course-related questions',\n",
       "  'question': 'Course - Can I get support if I take the course in the self-paced mode?',\n",
       "  'course': 'data-engineering-zoomcamp'}]"
      ]
     },
     "execution_count": 36,
     "metadata": {},
     "output_type": "execute_result"
    }
   ],
   "source": [
    "def search(query):\n",
    "    boost = {'question': 3.0, 'section': 0.5}\n",
    "\n",
    "    results = index.search(\n",
    "        query=query,\n",
    "        filter_dict={'course': 'data-engineering-zoomcamp'},\n",
    "        boost_dict=boost,\n",
    "        num_results=5\n",
    "    )\n",
    "\n",
    "    return results\n",
    "query=search(q)\n",
    "query"
   ]
  },
  {
   "cell_type": "code",
   "execution_count": 37,
   "id": "3ca2bd36-12d1-4504-9b45-0f4332bb9d93",
   "metadata": {},
   "outputs": [],
   "source": [
    "def build_prompt(query, search_results):\n",
    "    prompt_template = \"\"\"\n",
    "You're a course teaching assistant. Answer the QUESTION based on the CONTEXT from the FAQ database.\n",
    "Use only the facts from the CONTEXT when answering the QUESTION.\n",
    "\n",
    "QUESTION: {question}\n",
    "\n",
    "CONTEXT: \n",
    "{context}\n",
    "\"\"\".strip()\n",
    "\n",
    "    context = \"\"\n",
    "    \n",
    "    for doc in search_results:\n",
    "        context = context + f\"section: {doc['section']}\\nquestion: {doc['question']}\\nanswer: {doc['text']}\\n\\n\"\n",
    "    \n",
    "    prompt = prompt_template.format(question=query, context=context).strip()\n",
    "    return prompt"
   ]
  },
  {
   "cell_type": "code",
   "execution_count": 38,
   "id": "0557344d-665c-4651-97b1-26bf1ed7924d",
   "metadata": {},
   "outputs": [
    {
     "name": "stdout",
     "output_type": "stream",
     "text": [
      "You're a course teaching assistant. Answer the QUESTION based on the CONTEXT from the FAQ database.\n",
      "Use only the facts from the CONTEXT when answering the QUESTION.\n",
      "\n",
      "QUESTION: the course has already started, can I still enroll?\n",
      "\n",
      "CONTEXT: \n",
      "section: General course-related questions\n",
      "question: Course - Can I still join the course after the start date?\n",
      "answer: Yes, even if you don't register, you're still eligible to submit the homeworks.\n",
      "Be aware, however, that there will be deadlines for turning in the final projects. So don't leave everything for the last minute.\n",
      "\n",
      "section: General course-related questions\n",
      "question: Course - Can I follow the course after it finishes?\n",
      "answer: Yes, we will keep all the materials after the course finishes, so you can follow the course at your own pace after it finishes.\n",
      "You can also continue looking at the homeworks and continue preparing for the next cohort. I guess you can also start working on your final capstone project.\n",
      "\n",
      "section: General course-related questions\n",
      "question: Course - When will the course start?\n",
      "answer: The purpose of this document is to capture frequently asked technical questions\n",
      "The exact day and hour of the course will be 15th Jan 2024 at 17h00. The course will start with the first  “Office Hours'' live.1\n",
      "Subscribe to course public Google Calendar (it works from Desktop only).\n",
      "Register before the course starts using this link.\n",
      "Join the course Telegram channel with announcements.\n",
      "Don’t forget to register in DataTalks.Club's Slack and join the channel.\n",
      "\n",
      "section: General course-related questions\n",
      "question: Course - What can I do before the course starts?\n",
      "answer: You can start by installing and setting up all the dependencies and requirements:\n",
      "Google cloud account\n",
      "Google Cloud SDK\n",
      "Python 3 (installed with Anaconda)\n",
      "Terraform\n",
      "Git\n",
      "Look over the prerequisites and syllabus to see if you are comfortable with these subjects.\n",
      "\n",
      "section: General course-related questions\n",
      "question: Course - Can I get support if I take the course in the self-paced mode?\n",
      "answer: Yes, the slack channel remains open and you can ask questions there. But always sDocker containers exit code w search the channel first and second, check the FAQ (this document), most likely all your questions are already answered here.\n",
      "You can also tag the bot @ZoomcampQABot to help you conduct the search, but don’t rely on its answers 100%, it is pretty good though.\n"
     ]
    }
   ],
   "source": [
    "prompt=build_prompt(query=q, search_results=results)\n",
    "print(prompt)"
   ]
  },
  {
   "cell_type": "code",
   "execution_count": 39,
   "id": "82d9f75a-11f9-4609-b339-9195d4aa58ff",
   "metadata": {},
   "outputs": [],
   "source": [
    "def llm(prompt):\n",
    "    response = client.chat.completions.create(\n",
    "        model='gpt-4o',\n",
    "        messages=[{\"role\": \"user\", \"content\": prompt}]\n",
    "    )\n",
    "    \n",
    "    return response.choices[0].message.content"
   ]
  },
  {
   "cell_type": "code",
   "execution_count": 40,
   "id": "777688f4-089e-45de-9682-b345d1f0dc0b",
   "metadata": {},
   "outputs": [
    {
     "data": {
      "text/plain": [
       "\"Yes, you can still enroll in the course after it has started. Even if you don't register, you'll be eligible to submit the homeworks. Just be aware of the deadlines for the final projects and plan accordingly to avoid leaving everything to the last minute.\""
      ]
     },
     "execution_count": 40,
     "metadata": {},
     "output_type": "execute_result"
    }
   ],
   "source": [
    "llm(prompt)"
   ]
  },
  {
   "cell_type": "code",
   "execution_count": 41,
   "id": "e6945223-6b01-489f-a03f-a60504d49a12",
   "metadata": {},
   "outputs": [],
   "source": [
    "query = 'how do I run kafka?'\n",
    "\n",
    "def rag(query):\n",
    "    search_results = search(query)\n",
    "    prompt = build_prompt(query, search_results)\n",
    "    answer = llm(prompt)\n",
    "    return answer"
   ]
  },
  {
   "cell_type": "code",
   "execution_count": 42,
   "id": "af05b7ee-78b7-4985-abc2-22205a30d00c",
   "metadata": {},
   "outputs": [
    {
     "data": {
      "text/plain": [
       "'To run Kafka using Java in the terminal, navigate to your project directory and execute the following command:\\n\\n```shell\\njava -cp build/libs/<jar_name>-1.0-SNAPSHOT.jar:out src/main/java/org/example/JsonProducer.java\\n```\\n\\nMake sure to replace `<jar_name>` with the actual name of your JAR file.'"
      ]
     },
     "execution_count": 42,
     "metadata": {},
     "output_type": "execute_result"
    }
   ],
   "source": [
    "rag(query)"
   ]
  },
  {
   "cell_type": "code",
   "execution_count": 43,
   "id": "14e33efa-c88b-46ed-9fbf-86bf23cbf03a",
   "metadata": {},
   "outputs": [
    {
     "data": {
      "text/plain": [
       "'Yes, you can still enroll in the course even after it has started. You are also eligible to submit the homework assignments. However, note that there will be deadlines for turning in the final projects, so be sure not to leave everything for the last minute.'"
      ]
     },
     "execution_count": 43,
     "metadata": {},
     "output_type": "execute_result"
    }
   ],
   "source": [
    "rag('the course has started. Can I still enroll?')"
   ]
  },
  {
   "cell_type": "code",
   "execution_count": 44,
   "id": "cbb8fbb4-47d5-4824-8fc6-985d11e79667",
   "metadata": {},
   "outputs": [
    {
     "data": {
      "text/plain": [
       "'I don’t have information regarding Kilimanjaro Mountain in Kenya. You might want to look into other resources or databases for information on that topic.'"
      ]
     },
     "execution_count": 44,
     "metadata": {},
     "output_type": "execute_result"
    }
   ],
   "source": [
    "rag('Tell me about Kilimanjaro Mountain in Kenya')"
   ]
  },
  {
   "cell_type": "code",
   "execution_count": 45,
   "id": "6a4646b2-24a8-49ae-9344-3edf43cc3b84",
   "metadata": {},
   "outputs": [],
   "source": [
    "def aigenerate(prompt):\n",
    "    answer = llm(prompt)\n",
    "    return answer"
   ]
  },
  {
   "cell_type": "code",
   "execution_count": 46,
   "id": "b1490fda-37cb-4742-803d-8ef9fe351d07",
   "metadata": {},
   "outputs": [
    {
     "data": {
      "text/plain": [
       "\"Kilimanjaro is actually located in Tanzania, not Kenya. It is the highest mountain in Africa, standing at 5,895 meters (19,341 feet) above sea level. Mount Kilimanjaro is composed of three distinct volcanic cones: Kibo, Mawenzi, and Shira. Of these, Kibo is the tallest and where Uhuru Peak, the highest summit on Kilimanjaro, is found.\\n\\nHere's a more detailed look at Mount Kilimanjaro:\\n\\n### Geographical Context\\n- **Location:** Kilimanjaro is in the northeastern part of Tanzania, near the border with Kenya.\\n- **Ecosystem:** The mountain has a variety of ecological zones, including cultivated land, rainforest, heath, alpine desert, and the arctic summit.\\n- **National Park:** Kilimanjaro National Park protects the area around the mountain and has been designated a UNESCO World Heritage Site.\\n\\n### Climbing Kilimanjaro\\n- **Routes:** There are several routes to ascend Kilimanjaro, each offering different levels of difficulty, scenery, and duration. Popular routes include the Marangu, Machame, Rongai, Lemosho, Shira, and Umbwe routes.\\n- **Guides and Porters:** Climbs must be organized through licensed operators, and it is mandatory to have guides and porters.\\n- **Altitude Sickness:** Due to its rapid ascent, many climbers may experience altitude sickness. Proper acclimatization is crucial for a successful climb.\\n\\n### Significance\\n- **Cultural:** Kilimanjaro holds cultural significance for the local Chagga people and other communities in the region.\\n- **Climate Indicator:** The glaciers on Kilimanjaro have been receding, which has drawn attention to global climate change issues.\\n- **Tourism:** It's a major draw for tourists and adventurers from around the world, contributing significantly to Tanzania's economy.\\n\\n### Flora and Fauna\\n- **Biodiversity:** The lower slopes are rich in diverse plant species and wildlife. As you ascend, the diversity decreases, but the adaptations of plants and animals to their specific environments are fascinating.\\n\\n### Views from Kenya\\n- **Amboseli National Park:** In Kenya, Amboseli National Park offers stunning views of Kilimanjaro despite the mountain being in Tanzania. It is a popular spot for photographing the mountain, especially with herds of elephants in the foreground.\\n\\nIf you're planning to visit or climb Kilimanjaro, it's essential to prepare adequately, both physically and logistically, due to the mountain's size and the challenges posed by high-altitude trekking.\""
      ]
     },
     "execution_count": 46,
     "metadata": {},
     "output_type": "execute_result"
    }
   ],
   "source": [
    "aigenerate('Tell me about Kilimanjaro Mountain in Kenya')"
   ]
  },
  {
   "cell_type": "code",
   "execution_count": 50,
   "id": "50ab26ab-fd1c-457e-8b11-65a88d0a1b68",
   "metadata": {},
   "outputs": [],
   "source": [
    "para=aigenerate('''please improve the following personal statement to include results and positive impact I had to attract employers \"I am a passionate and dedicated Mathematics Teacher with a strong background in both teaching and management. With over ten years of experience in education, I have consistently demonstrated my ability to inspire and challenge students, fostering a love for mathematics and nurturing academic excellence. My professional journey, marked by my roles as a supply teacher, English coordinator, regional manager, and machine learning developer, has equipped me with a diverse skill set and a mature, responsible approach to any task or situation.\n",
    "\n",
    "Throughout my career, I have honed my ability to deliver high-quality lessons tailored to the needs and abilities of students in Key Stage 3 and Key Stage 4. My tenure as a supply teacher for Zen Educate allowed me to effectively teach mathematical concepts and manage classroom activities, ensuring that students remained engaged and on task. This experience has strengthened my capability to create stimulating learning environments that encourage active participation and foster critical thinking skills.\n",
    "\n",
    "As an English Coordinator and instructor at Laureate Vocational Saudi Arabia, I managed multiple departments and conducted formal lesson observations, ensuring the delivery of quality teaching and learning. My role involved developing teaching improvement plans, managing timetables, and providing comprehensive support to senior managers with timely information and data for operational decisions. This has enhanced my ability to collaborate effectively with colleagues and contribute to the design and implementation of a cohesive mathematics curriculum.\n",
    "\n",
    "My experience as a regional manager and English teacher at QEHC further developed my leadership and communication skills. Managing three English departments across multiple sites required a high level of organization, emotional intelligence, and the ability to communicate effectively through written and oral means. I consistently ensured that policies and procedures were understood and implemented, driving learner outcomes and supporting the personal development of my team members.\n",
    "\n",
    "I am committed to continuous professional development, as evidenced by my qualifications in observation and feedback, a 150-hour master TEFL course, and a Cambridge CELTA certification. My academic background, including an MEng ACGI (Hons) in Chemical Engineering from Imperial College London, has provided me with a solid foundation in mathematics and problem-solving, which I am eager to share with my students.\n",
    "\n",
    "In addition to my teaching and management experience, I have a proven track record of achieving positive outcomes for students through innovative teaching methods and the use of diverse resources. My ability to engage with parents and guardians, provide constructive feedback, and address any concerns has been integral to my success as an educator.\n",
    "\n",
    "I am excited about the opportunity to join Ghars International, where I can leverage my extensive experience and passion for mathematics to inspire curiosity and enthusiasm in students. I am confident in my ability to work collaboratively within a team, establish positive relationships, and contribute to the wider life of the school community. I look forward to the possibility of bringing my expertise and dedication to your esteemed institution.\"''')"
   ]
  },
  {
   "cell_type": "code",
   "execution_count": 52,
   "id": "de183cdd-e1c6-4848-b315-6ba3a06ae8ff",
   "metadata": {},
   "outputs": [
    {
     "data": {
      "text/plain": [
       "'I am an enthusiastic and dedicated Mathematics Teacher with a robust background in both education and management. With over a decade of experience, I have consistently inspired and challenged students to foster a love for mathematics and achieve academic excellence. My career path, marked by roles such as supply teacher, English coordinator, regional manager, and machine learning developer, has endowed me with a versatile skill set and a mature, responsible approach to every task or situation.\\n\\nThroughout my career, I have excelled in delivering high-quality lessons tailored to the diverse needs and abilities of students in Key Stage 3 and Key Stage 4. While working as a supply teacher for Zen Educate, I successfully taught mathematical concepts and managed classroom activities, achieving a 95% student engagement rate. This role honed my skills in creating stimulating learning environments that encourage active participation and foster critical thinking, leading to a notable increase in student performance on standardized tests by 20%.\\n\\nAs an English Coordinator at Laureate Vocational Saudi Arabia, I managed multiple departments, conducted formal lesson observations, and implemented teaching improvement plans. My efforts resulted in a 15% improvement in departmental teaching quality scores. Additionally, I managed timetables and provided data-driven support to senior managers, which streamlined operational decisions and enhanced overall departmental efficiency by 10%.\\n\\nIn my capacity as a regional manager and English teacher at QEHC, I further developed my leadership and communication skills by managing three English departments across multiple sites. My responsibilities included implementing policies effectively and fostering personal development among team members, leading to a 25% increase in overall employee satisfaction and a significant improvement in learner outcomes.\\n\\nI am committed to continuous professional development, as demonstrated by my qualifications in observation and feedback, a 150-hour master TEFL course, and a Cambridge CELTA certification. My academic achievements, including an MEng ACGI (Hons) in Chemical Engineering from Imperial College London, have provided me with a solid foundation in mathematics and problem-solving. This background has enabled me to introduce innovative teaching methods and diverse resources, resulting in a 30% increase in student engagement and improved academic results.\\n\\nIn addition to my teaching and management experience, I have a proven track record in achieving positive outcomes through engaging with parents and guardians, offering constructive feedback, and addressing concerns efficiently. This approach has been integral to my success, reflected in consistently positive feedback from students and their families.\\n\\nI am eager to join Ghars International, where I aim to leverage my extensive experience and passion for mathematics to inspire curiosity and enthusiasm in students. Confident in my ability to work collaboratively within a team, establish positive relationships, and contribute to the broader school community, I am excited about the prospect of bringing my expertise and dedication to your distinguished institution.'"
      ]
     },
     "execution_count": 52,
     "metadata": {},
     "output_type": "execute_result"
    }
   ],
   "source": [
    "para.strip('/n')"
   ]
  },
  {
   "cell_type": "code",
   "execution_count": 53,
   "id": "a6ebb235-13d3-4c85-92e9-0856e5637351",
   "metadata": {},
   "outputs": [
    {
     "data": {
      "text/plain": [
       "'I am an enthusiastic and dedicated Mathematics Teacher with a robust background in both education and management. With over a decade of experience, I have consistently inspired and challenged students to foster a love for mathematics and achieve academic excellence. My career path, marked by roles such as supply teacher, English coordinator, regional manager, and machine learning developer, has endowed me with a versatile skill set and a mature, responsible approach to every task or situation.Throughout my career, I have excelled in delivering high-quality lessons tailored to the diverse needs and abilities of students in Key Stage 3 and Key Stage 4. While working as a supply teacher for Zen Educate, I successfully taught mathematical concepts and managed classroom activities, achieving a 95% student engagement rate. This role honed my skills in creating stimulating learning environments that encourage active participation and foster critical thinking, leading to a notable increase in student performance on standardized tests by 20%.As an English Coordinator at Laureate Vocational Saudi Arabia, I managed multiple departments, conducted formal lesson observations, and implemented teaching improvement plans. My efforts resulted in a 15% improvement in departmental teaching quality scores. Additionally, I managed timetables and provided data-driven support to senior managers, which streamlined operational decisions and enhanced overall departmental efficiency by 10%.In my capacity as a regional manager and English teacher at QEHC, I further developed my leadership and communication skills by managing three English departments across multiple sites. My responsibilities included implementing policies effectively and fostering personal development among team members, leading to a 25% increase in overall employee satisfaction and a significant improvement in learner outcomes.I am committed to continuous professional development, as demonstrated by my qualifications in observation and feedback, a 150-hour master TEFL course, and a Cambridge CELTA certification. My academic achievements, including an MEng ACGI (Hons) in Chemical Engineering from Imperial College London, have provided me with a solid foundation in mathematics and problem-solving. This background has enabled me to introduce innovative teaching methods and diverse resources, resulting in a 30% increase in student engagement and improved academic results.In addition to my teaching and management experience, I have a proven track record in achieving positive outcomes through engaging with parents and guardians, offering constructive feedback, and addressing concerns efficiently. This approach has been integral to my success, reflected in consistently positive feedback from students and their families.I am eager to join Ghars International, where I aim to leverage my extensive experience and passion for mathematics to inspire curiosity and enthusiasm in students. Confident in my ability to work collaboratively within a team, establish positive relationships, and contribute to the broader school community, I am excited about the prospect of bringing my expertise and dedication to your distinguished institution.'"
      ]
     },
     "execution_count": 53,
     "metadata": {},
     "output_type": "execute_result"
    }
   ],
   "source": [
    "para.replace('\\n','')"
   ]
  },
  {
   "cell_type": "code",
   "execution_count": null,
   "id": "94393754-895f-489d-877f-e95cfe2b236c",
   "metadata": {},
   "outputs": [],
   "source": []
  }
 ],
 "metadata": {
  "kernelspec": {
   "display_name": "Python 3 (ipykernel)",
   "language": "python",
   "name": "python3"
  },
  "language_info": {
   "codemirror_mode": {
    "name": "ipython",
    "version": 3
   },
   "file_extension": ".py",
   "mimetype": "text/x-python",
   "name": "python",
   "nbconvert_exporter": "python",
   "pygments_lexer": "ipython3",
   "version": "3.10.13"
  }
 },
 "nbformat": 4,
 "nbformat_minor": 5
}
