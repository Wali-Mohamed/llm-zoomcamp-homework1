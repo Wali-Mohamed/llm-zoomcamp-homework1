{
 "cells": [
  {
   "cell_type": "code",
   "execution_count": 1,
   "id": "8a023082-3630-42b3-a426-73a21e631e82",
   "metadata": {},
   "outputs": [],
   "source": [
    "import openai"
   ]
  },
  {
   "cell_type": "code",
   "execution_count": 2,
   "id": "a1bc6096-4f1f-4f89-88bf-c2a17641c5e8",
   "metadata": {},
   "outputs": [],
   "source": [
    "from openai import OpenAI"
   ]
  },
  {
   "cell_type": "code",
   "execution_count": 7,
   "id": "fb0a3403-a7da-4d09-80b9-6978e9493c60",
   "metadata": {},
   "outputs": [],
   "source": [
    "client=OpenAI()"
   ]
  },
  {
   "cell_type": "code",
   "execution_count": 8,
   "id": "061a8310-797b-4cbf-81c3-84e2f62e33a8",
   "metadata": {},
   "outputs": [],
   "source": [
    "import os  "
   ]
  },
  {
   "cell_type": "code",
   "execution_count": 9,
   "id": "daeeab31-f079-40b1-b89c-33191796c3d3",
   "metadata": {},
   "outputs": [],
   "source": [
    "#os.environ"
   ]
  },
  {
   "cell_type": "code",
   "execution_count": 28,
   "id": "f407bbbe-8ea9-4453-8cf5-d3f2464cad2f",
   "metadata": {},
   "outputs": [],
   "source": [
    "response=client.chat.completions.create(\n",
    "    model='gpt-3.5-turbo',\n",
    "    messages=[{'role':'user', 'content':'Write a letter of wedding invitation?'}]\n",
    ")"
   ]
  },
  {
   "cell_type": "code",
   "execution_count": 29,
   "id": "072a88c1-1a47-4ca3-aac6-81bc096bf755",
   "metadata": {},
   "outputs": [
    {
     "data": {
      "text/plain": [
       "\"Dear friends and family,\\n\\nWe are thrilled to announce the wedding of [Couple's Names] on [Date] at [Venue]. \\n\\nAs we begin this new chapter in our lives, we would be honored if you could join us in celebrating our love and commitment to each other. Your presence would mean the world to us as we exchange our vows and start this journey together.\\n\\nThe ceremony will be followed by a reception filled with love, laughter, and joy. We hope you can join us in dancing the night away and creating lasting memories with us.\\n\\nPlease RSVP by [RSVP date] so we can make the necessary accommodations for our special day.\\n\\nWe cannot wait to share this special moment with all of our loved ones and create cherished memories that we will hold dear for years to come.\\n\\nWith love,\\n\\n[Names]\""
      ]
     },
     "execution_count": 29,
     "metadata": {},
     "output_type": "execute_result"
    }
   ],
   "source": [
    "response.choices[0].message.content"
   ]
  },
  {
   "cell_type": "code",
   "execution_count": null,
   "id": "c3904785-0304-4207-bff0-606da5abd43a",
   "metadata": {},
   "outputs": [],
   "source": []
  }
 ],
 "metadata": {
  "kernelspec": {
   "display_name": "Python 3 (ipykernel)",
   "language": "python",
   "name": "python3"
  },
  "language_info": {
   "codemirror_mode": {
    "name": "ipython",
    "version": 3
   },
   "file_extension": ".py",
   "mimetype": "text/x-python",
   "name": "python",
   "nbconvert_exporter": "python",
   "pygments_lexer": "ipython3",
   "version": "3.10.13"
  }
 },
 "nbformat": 4,
 "nbformat_minor": 5
}
