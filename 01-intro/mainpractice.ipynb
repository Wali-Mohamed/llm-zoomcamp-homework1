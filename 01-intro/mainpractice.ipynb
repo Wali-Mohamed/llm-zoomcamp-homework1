{
 "cells": [
  {
   "cell_type": "code",
   "execution_count": 18,
   "id": "5d3428a4-9db7-4c13-92b8-8f3849e58623",
   "metadata": {},
   "outputs": [],
   "source": [
    "#!wget https://raw.githubusercontent.com/DataTalksClub/llm-zoomcamp/main/01-intro/minsearch.py"
   ]
  },
  {
   "cell_type": "code",
   "execution_count": 19,
   "id": "6c475b73-3bf1-46b0-9d6a-e59c574000e6",
   "metadata": {},
   "outputs": [],
   "source": [
    "#!wget https://raw.githubusercontent.com/DataTalksClub/llm-zoomcamp/main/01-intro/documents.json"
   ]
  },
  {
   "cell_type": "code",
   "execution_count": 37,
   "id": "3ed25ee8-5cea-4977-8b47-cb2f5d774756",
   "metadata": {},
   "outputs": [],
   "source": [
    "import minsearch\n"
   ]
  },
  {
   "cell_type": "code",
   "execution_count": 38,
   "id": "60586208-aeec-417f-b2b1-3641770cbde1",
   "metadata": {},
   "outputs": [],
   "source": [
    "import json\n",
    "with open('documents.json', 'rt') as f_in:\n",
    "    docs_raw=json.load(f_in)"
   ]
  },
  {
   "cell_type": "code",
   "execution_count": 39,
   "id": "55de9c9a-c9e5-4dd4-ad48-40859f535bc6",
   "metadata": {},
   "outputs": [
    {
     "data": {
      "text/plain": [
       "dict_keys(['text', 'section', 'question'])"
      ]
     },
     "execution_count": 39,
     "metadata": {},
     "output_type": "execute_result"
    }
   ],
   "source": [
    "docs_raw[1].keys()\n",
    "docs_raw[1]['documents'][1].keys()"
   ]
  },
  {
   "cell_type": "code",
   "execution_count": 40,
   "id": "2c6bcb56-2bcd-430a-9f67-571b642cb5f8",
   "metadata": {},
   "outputs": [
    {
     "name": "stdout",
     "output_type": "stream",
     "text": [
      "3\n",
      "dict_keys(['course', 'documents'])\n",
      "mlops-zoomcamp\n",
      "138\n",
      "dict_keys(['text', 'section', 'question'])\n"
     ]
    }
   ],
   "source": [
    "#docs_raw is a list of 3 dictionaries\n",
    "print(len(docs_raw))\n",
    "# each dictionary has two keys\n",
    "print(docs_raw[0].keys())\n",
    "# course key has one item\n",
    "print(docs_raw[2]['course'])\n",
    "# documents key has a list dictionaries which add up to 435\n",
    "print(len(docs_raw[2]['documents']))\n",
    "# each of those dictionaries has three keys namely\n",
    "print(docs_raw[0]['documents'][0].keys())"
   ]
  },
  {
   "cell_type": "code",
   "execution_count": 41,
   "id": "2c298187-5999-4dff-b00f-c8d311364e12",
   "metadata": {},
   "outputs": [
    {
     "data": {
      "text/plain": [
       "3"
      ]
     },
     "execution_count": 41,
     "metadata": {},
     "output_type": "execute_result"
    }
   ],
   "source": [
    "len(docs_raw)\n",
    "#docs_raw[0]\n",
    "#len(docs_row[0])"
   ]
  },
  {
   "cell_type": "code",
   "execution_count": 42,
   "id": "cff09b4f-a9ba-4d89-a231-aea897ea2b58",
   "metadata": {},
   "outputs": [],
   "source": [
    "documents = []\n",
    "\n",
    "for course_dict in docs_raw:\n",
    "    for doc in course_dict['documents']:\n",
    "        doc['course'] = course_dict['course']\n",
    "        documents.append(doc)"
   ]
  },
  {
   "cell_type": "code",
   "execution_count": 43,
   "id": "3bfe2571-6dbe-4067-9bb9-db38c3ba9680",
   "metadata": {},
   "outputs": [
    {
     "name": "stdout",
     "output_type": "stream",
     "text": [
      "948\n"
     ]
    },
    {
     "data": {
      "text/plain": [
       "dict_keys(['text', 'section', 'question', 'course'])"
      ]
     },
     "execution_count": 43,
     "metadata": {},
     "output_type": "execute_result"
    }
   ],
   "source": [
    "print(len(documents))\n",
    "(documents[0].keys())"
   ]
  },
  {
   "cell_type": "code",
   "execution_count": 44,
   "id": "bff98f48-98bd-42a8-aa54-6aa2c9460b9a",
   "metadata": {},
   "outputs": [],
   "source": [
    "index = minsearch.Index(\n",
    "    text_fields=[\"question\", \"text\", \"section\"],\n",
    "    keyword_fields=[\"course\"]  \n",
    ")\n"
   ]
  },
  {
   "cell_type": "code",
   "execution_count": 45,
   "id": "5de67a61-63f5-4c4a-8600-d8d76ce7a927",
   "metadata": {},
   "outputs": [],
   "source": [
    "q = 'the course has already started, can I still enroll?'"
   ]
  },
  {
   "cell_type": "code",
   "execution_count": 46,
   "id": "ea48767a-aacb-4a63-838a-146cf528ca84",
   "metadata": {},
   "outputs": [
    {
     "data": {
      "text/plain": [
       "<minsearch.Index at 0x730d15179000>"
      ]
     },
     "execution_count": 46,
     "metadata": {},
     "output_type": "execute_result"
    }
   ],
   "source": [
    "index.fit(documents)"
   ]
  },
  {
   "cell_type": "code",
   "execution_count": null,
   "id": "146e901b-6ca3-4cf3-be77-c17d948be2f7",
   "metadata": {},
   "outputs": [],
   "source": []
  },
  {
   "cell_type": "code",
   "execution_count": 47,
   "id": "2b1c35a9-9188-4999-9f10-fba0e5c8595a",
   "metadata": {},
   "outputs": [],
   "source": [
    "boost ={'question':3.0, 'section':0.5}\n",
    "results= index.search(\n",
    "    query=q,\n",
    "    filter_dict={'course':'data-engineering-zoomcamp'},\n",
    "    boost_dict=boost,\n",
    "    num_results=5\n",
    "\n",
    "    \n",
    ")"
   ]
  },
  {
   "cell_type": "code",
   "execution_count": 48,
   "id": "23217abc-6c69-43f6-b22b-f21572e8b9b7",
   "metadata": {},
   "outputs": [],
   "source": [
    "#print(results)\n",
    "#results\n"
   ]
  },
  {
   "cell_type": "code",
   "execution_count": 49,
   "id": "a2770c04-8d97-46b2-a65b-39d97d330218",
   "metadata": {},
   "outputs": [],
   "source": [
    "from openai import OpenAI\n",
    "client = OpenAI()\n",
    "#client = OpenAI()"
   ]
  },
  {
   "cell_type": "code",
   "execution_count": 50,
   "id": "a558baa0-ca1d-4395-ac2b-5b642815680b",
   "metadata": {},
   "outputs": [
    {
     "name": "stdout",
     "output_type": "stream",
     "text": [
      "Python 3.10.14\n"
     ]
    }
   ],
   "source": [
    "! python -V"
   ]
  },
  {
   "cell_type": "code",
   "execution_count": 51,
   "id": "e30679e2-98ca-4a79-b45a-97e8c7a76c01",
   "metadata": {},
   "outputs": [],
   "source": [
    "import os\n",
    "os.environ\n",
    "envir=os.environ\n",
    "\n",
    "#api_key = os.environ.get(\"OPENAI_API_KEY\")\n"
   ]
  },
  {
   "cell_type": "code",
   "execution_count": 52,
   "id": "e90911f5-65dc-4f70-82df-4c4d84440dbb",
   "metadata": {},
   "outputs": [],
   "source": [
    "# if 'OPENAI_API_KEY' in envir:\n",
    "#     print(envir['OPENAI_API_KEY'])\n",
    "# else:\n",
    "#     print(False)"
   ]
  },
  {
   "cell_type": "code",
   "execution_count": 53,
   "id": "161eb81f-b52e-4c94-9062-8957a097f207",
   "metadata": {},
   "outputs": [
    {
     "data": {
      "text/plain": [
       "\"The capability to enroll in a course after it has started depends on the specific policies of the institution or organization running the course. In some cases, late enrollment is allowed, but in others it is not. It would be best to directly contact the course provider to find out their rules and whether late enrollment is a possibility for the course you're interested in.\""
      ]
     },
     "execution_count": 53,
     "metadata": {},
     "output_type": "execute_result"
    }
   ],
   "source": [
    "response = client.chat.completions.create(\n",
    "    #model='gpt-3.5-turbo',\n",
    "    model='gpt-4',\n",
    "    messages=[{\"role\": \"user\", \"content\": q}]\n",
    ")\n",
    "\n",
    "response.choices[0].message.content"
   ]
  },
  {
   "cell_type": "code",
   "execution_count": 54,
   "id": "24561690-757e-470a-9dcc-9467eeda81b7",
   "metadata": {},
   "outputs": [
    {
     "data": {
      "text/plain": [
       "[{'text': \"Yes, even if you don't register, you're still eligible to submit the homeworks.\\nBe aware, however, that there will be deadlines for turning in the final projects. So don't leave everything for the last minute.\",\n",
       "  'section': 'General course-related questions',\n",
       "  'question': 'Course - Can I still join the course after the start date?',\n",
       "  'course': 'data-engineering-zoomcamp'},\n",
       " {'text': 'Yes, we will keep all the materials after the course finishes, so you can follow the course at your own pace after it finishes.\\nYou can also continue looking at the homeworks and continue preparing for the next cohort. I guess you can also start working on your final capstone project.',\n",
       "  'section': 'General course-related questions',\n",
       "  'question': 'Course - Can I follow the course after it finishes?',\n",
       "  'course': 'data-engineering-zoomcamp'},\n",
       " {'text': \"The purpose of this document is to capture frequently asked technical questions\\nThe exact day and hour of the course will be 15th Jan 2024 at 17h00. The course will start with the first  “Office Hours'' live.1\\nSubscribe to course public Google Calendar (it works from Desktop only).\\nRegister before the course starts using this link.\\nJoin the course Telegram channel with announcements.\\nDon’t forget to register in DataTalks.Club's Slack and join the channel.\",\n",
       "  'section': 'General course-related questions',\n",
       "  'question': 'Course - When will the course start?',\n",
       "  'course': 'data-engineering-zoomcamp'},\n",
       " {'text': 'You can start by installing and setting up all the dependencies and requirements:\\nGoogle cloud account\\nGoogle Cloud SDK\\nPython 3 (installed with Anaconda)\\nTerraform\\nGit\\nLook over the prerequisites and syllabus to see if you are comfortable with these subjects.',\n",
       "  'section': 'General course-related questions',\n",
       "  'question': 'Course - What can I do before the course starts?',\n",
       "  'course': 'data-engineering-zoomcamp'},\n",
       " {'text': 'Yes, the slack channel remains open and you can ask questions there. But always sDocker containers exit code w search the channel first and second, check the FAQ (this document), most likely all your questions are already answered here.\\nYou can also tag the bot @ZoomcampQABot to help you conduct the search, but don’t rely on its answers 100%, it is pretty good though.',\n",
       "  'section': 'General course-related questions',\n",
       "  'question': 'Course - Can I get support if I take the course in the self-paced mode?',\n",
       "  'course': 'data-engineering-zoomcamp'}]"
      ]
     },
     "execution_count": 54,
     "metadata": {},
     "output_type": "execute_result"
    }
   ],
   "source": [
    "def search(query):\n",
    "    boost = {'question': 3.0, 'section': 0.5}\n",
    "\n",
    "    results = index.search(\n",
    "        query=query,\n",
    "        filter_dict={'course': 'data-engineering-zoomcamp'},\n",
    "        boost_dict=boost,\n",
    "        num_results=5\n",
    "    )\n",
    "\n",
    "    return results\n",
    "query=search(q)\n",
    "query"
   ]
  },
  {
   "cell_type": "code",
   "execution_count": 55,
   "id": "3ca2bd36-12d1-4504-9b45-0f4332bb9d93",
   "metadata": {},
   "outputs": [],
   "source": [
    "def build_prompt(query, search_results):\n",
    "    prompt_template = \"\"\"\n",
    "You're a course teaching assistant. Answer the QUESTION based on the CONTEXT from the FAQ database.\n",
    "Use only the facts from the CONTEXT when answering the QUESTION.\n",
    "\n",
    "QUESTION: {question}\n",
    "\n",
    "CONTEXT: \n",
    "{context}\n",
    "\"\"\".strip()\n",
    "\n",
    "    context = \"\"\n",
    "    \n",
    "    for doc in search_results:\n",
    "        context = context + f\"section: {doc['section']}\\nquestion: {doc['question']}\\nanswer: {doc['text']}\\n\\n\"\n",
    "    \n",
    "    prompt = prompt_template.format(question=query, context=context).strip()\n",
    "    return prompt"
   ]
  },
  {
   "cell_type": "code",
   "execution_count": 56,
   "id": "0557344d-665c-4651-97b1-26bf1ed7924d",
   "metadata": {},
   "outputs": [
    {
     "name": "stdout",
     "output_type": "stream",
     "text": [
      "You're a course teaching assistant. Answer the QUESTION based on the CONTEXT from the FAQ database.\n",
      "Use only the facts from the CONTEXT when answering the QUESTION.\n",
      "\n",
      "QUESTION: the course has already started, can I still enroll?\n",
      "\n",
      "CONTEXT: \n",
      "section: General course-related questions\n",
      "question: Course - Can I still join the course after the start date?\n",
      "answer: Yes, even if you don't register, you're still eligible to submit the homeworks.\n",
      "Be aware, however, that there will be deadlines for turning in the final projects. So don't leave everything for the last minute.\n",
      "\n",
      "section: General course-related questions\n",
      "question: Course - Can I follow the course after it finishes?\n",
      "answer: Yes, we will keep all the materials after the course finishes, so you can follow the course at your own pace after it finishes.\n",
      "You can also continue looking at the homeworks and continue preparing for the next cohort. I guess you can also start working on your final capstone project.\n",
      "\n",
      "section: General course-related questions\n",
      "question: Course - When will the course start?\n",
      "answer: The purpose of this document is to capture frequently asked technical questions\n",
      "The exact day and hour of the course will be 15th Jan 2024 at 17h00. The course will start with the first  “Office Hours'' live.1\n",
      "Subscribe to course public Google Calendar (it works from Desktop only).\n",
      "Register before the course starts using this link.\n",
      "Join the course Telegram channel with announcements.\n",
      "Don’t forget to register in DataTalks.Club's Slack and join the channel.\n",
      "\n",
      "section: General course-related questions\n",
      "question: Course - What can I do before the course starts?\n",
      "answer: You can start by installing and setting up all the dependencies and requirements:\n",
      "Google cloud account\n",
      "Google Cloud SDK\n",
      "Python 3 (installed with Anaconda)\n",
      "Terraform\n",
      "Git\n",
      "Look over the prerequisites and syllabus to see if you are comfortable with these subjects.\n",
      "\n",
      "section: General course-related questions\n",
      "question: Course - Can I get support if I take the course in the self-paced mode?\n",
      "answer: Yes, the slack channel remains open and you can ask questions there. But always sDocker containers exit code w search the channel first and second, check the FAQ (this document), most likely all your questions are already answered here.\n",
      "You can also tag the bot @ZoomcampQABot to help you conduct the search, but don’t rely on its answers 100%, it is pretty good though.\n"
     ]
    }
   ],
   "source": [
    "prompt=build_prompt(query=q, search_results=results)\n",
    "print(prompt)"
   ]
  },
  {
   "cell_type": "code",
   "execution_count": 57,
   "id": "82d9f75a-11f9-4609-b339-9195d4aa58ff",
   "metadata": {},
   "outputs": [],
   "source": [
    "def llm(prompt):\n",
    "    response = client.chat.completions.create(\n",
    "        model='gpt-4o',\n",
    "        messages=[{\"role\": \"user\", \"content\": prompt}]\n",
    "    )\n",
    "    \n",
    "    return response.choices[0].message.content"
   ]
  },
  {
   "cell_type": "code",
   "execution_count": 58,
   "id": "777688f4-089e-45de-9682-b345d1f0dc0b",
   "metadata": {},
   "outputs": [
    {
     "data": {
      "text/plain": [
       "'Yes, you can still enroll in the course after it has started. You are eligible to submit the homeworks even if you register late. However, be mindful of the deadlines for turning in the final projects to avoid last-minute stress.'"
      ]
     },
     "execution_count": 58,
     "metadata": {},
     "output_type": "execute_result"
    }
   ],
   "source": [
    "llm(prompt)"
   ]
  },
  {
   "cell_type": "code",
   "execution_count": 59,
   "id": "e6945223-6b01-489f-a03f-a60504d49a12",
   "metadata": {},
   "outputs": [],
   "source": [
    "query = 'how do I run kafka?'\n",
    "\n",
    "def rag(query):\n",
    "    search_results = search(query)\n",
    "    prompt = build_prompt(query, search_results)\n",
    "    answer = llm(prompt)\n",
    "    return answer"
   ]
  },
  {
   "cell_type": "code",
   "execution_count": 60,
   "id": "af05b7ee-78b7-4985-abc2-22205a30d00c",
   "metadata": {},
   "outputs": [
    {
     "data": {
      "text/plain": [
       "'To run Kafka, here are the instructions depending on the specific scenario:\\n\\n1. **Java Kafka Producer/Consumer/KStreams**:\\n   - Navigate to your project directory.\\n   - Execute:\\n     ```bash\\n     java -cp build/libs/<jar_name>-1.0-SNAPSHOT.jar:out src/main/java/org/example/JsonProducer.java\\n     ```\\n   Replace `<jar_name>` with the appropriate jar file name.\\n\\n2. **Python Kafka**:\\n   - If you encounter any issues such as \"Module \\'kafka\\' not found\", create and use a virtual environment.\\n   - Steps to create and use a virtual environment:\\n\\n     To create:\\n     ```bash\\n     python -m venv env\\n     source env/bin/activate\\n     pip install -r ../requirements.txt\\n     ```\\n\\n     To activate the virtual environment:\\n     ```bash\\n     source env/bin/activate\\n     ```\\n\\n     To deactivate:\\n     ```bash\\n     deactivate\\n     ```\\n\\nFor **Windows**, activate the virtual environment with:\\n```bash\\nenv\\\\Scripts\\\\activate\\n```\\n\\nMake sure any Docker images required are running before executing these commands.\\n\\nIf anything specific still needs clarification or doesn\\'t work, please provide additional information about the issue, and I can assist further.'"
      ]
     },
     "execution_count": 60,
     "metadata": {},
     "output_type": "execute_result"
    }
   ],
   "source": [
    "rag(query)"
   ]
  },
  {
   "cell_type": "code",
   "execution_count": 61,
   "id": "14e33efa-c88b-46ed-9fbf-86bf23cbf03a",
   "metadata": {},
   "outputs": [
    {
     "data": {
      "text/plain": [
       "'Yes, you can still enroll in the course even after it has started. You will be eligible to submit the homeworks, but make sure to pay attention to the deadlines for turning in the final projects.'"
      ]
     },
     "execution_count": 61,
     "metadata": {},
     "output_type": "execute_result"
    }
   ],
   "source": [
    "rag('the course has started. Can I still enroll?')"
   ]
  },
  {
   "cell_type": "code",
   "execution_count": 62,
   "id": "cbb8fbb4-47d5-4824-8fc6-985d11e79667",
   "metadata": {},
   "outputs": [
    {
     "data": {
      "text/plain": [
       "'It appears that the context provided does not contain any information about Kilimanjaro Mountain in Kenya. Based on the context given, it primarily addresses technical issues related to analytics engineering, dbt, BigQuery, pyspark, and other similar topics.\\n\\nHowever, for your information, Kilimanjaro Mountain is actually located in Tanzania, not Kenya. It is the highest mountain in Africa, standing at 5,895 meters (19,341 feet) above sea level. It is a major climbing destination and consists of three volcanic cones: Kibo, Mawenzi, and Shira.\\n\\nIf you need more detailed information, I recommend consulting geographical references or travel guides that specialize in Tanzania and its landmarks.'"
      ]
     },
     "execution_count": 62,
     "metadata": {},
     "output_type": "execute_result"
    }
   ],
   "source": [
    "rag('Tell me about Kilimanjaro Mountain in Kenya')"
   ]
  },
  {
   "cell_type": "code",
   "execution_count": 63,
   "id": "6a4646b2-24a8-49ae-9344-3edf43cc3b84",
   "metadata": {},
   "outputs": [],
   "source": [
    "def aigenerate(prompt):\n",
    "    answer = llm(prompt)\n",
    "    return answer"
   ]
  },
  {
   "cell_type": "code",
   "execution_count": 64,
   "id": "b1490fda-37cb-4742-803d-8ef9fe351d07",
   "metadata": {},
   "outputs": [
    {
     "data": {
      "text/plain": [
       "'Mount Kilimanjaro is often mistakenly thought to be in Kenya, but it actually lies in northern Tanzania, near the border with Kenya. It is the highest peak in Africa, standing at approximately 5,895 meters (19,341 feet) above sea level. The mountain is a dormant stratovolcano and has three distinct cones: Kibo, Mawenzi, and Shira. Kibo is the highest summit and home to the famous Uhuru Peak.\\n\\nWhile the mountain itself is in Tanzania, it can be seen from Kenya, particularly from Amboseli National Park, which is a popular vantage point due to its excellent views of Kilimanjaro.\\n\\nKilimanjaro is a major destination for adventurous travelers and mountaineers from around the world. Climbing routes vary in difficulty and include the Marangu, Machame, Lemosho, Rongai, and Umbwe routes, each offering unique landscapes and experiences.\\n\\nThe mountain is also known for its diverse ecosystems, ranging from tropical rainforest at its base to alpine desert and arctic conditions at its summit. These varying climates support a wide range of flora and fauna, making Kilimanjaro a hotspot for biodiversity.\\n\\nThe combination of its accessibility, diverse environments, and status as Africa’s tallest mountain makes Kilimanjaro a prominent attraction for both trekkers and nature enthusiasts.'"
      ]
     },
     "execution_count": 64,
     "metadata": {},
     "output_type": "execute_result"
    }
   ],
   "source": [
    "aigenerate('Tell me about Kilimanjaro Mountain in Kenya')"
   ]
  },
  {
   "cell_type": "code",
   "execution_count": 65,
   "id": "50ab26ab-fd1c-457e-8b11-65a88d0a1b68",
   "metadata": {},
   "outputs": [],
   "source": [
    "para=aigenerate('''please improve the following personal statement to include results and positive impact I had to attract employers \"I am a passionate and dedicated Mathematics Teacher with a strong background in both teaching and management. With over ten years of experience in education, I have consistently demonstrated my ability to inspire and challenge students, fostering a love for mathematics and nurturing academic excellence. My professional journey, marked by my roles as a supply teacher, English coordinator, regional manager, and machine learning developer, has equipped me with a diverse skill set and a mature, responsible approach to any task or situation.\n",
    "\n",
    "Throughout my career, I have honed my ability to deliver high-quality lessons tailored to the needs and abilities of students in Key Stage 3 and Key Stage 4. My tenure as a supply teacher for Zen Educate allowed me to effectively teach mathematical concepts and manage classroom activities, ensuring that students remained engaged and on task. This experience has strengthened my capability to create stimulating learning environments that encourage active participation and foster critical thinking skills.\n",
    "\n",
    "As an English Coordinator and instructor at Laureate Vocational Saudi Arabia, I managed multiple departments and conducted formal lesson observations, ensuring the delivery of quality teaching and learning. My role involved developing teaching improvement plans, managing timetables, and providing comprehensive support to senior managers with timely information and data for operational decisions. This has enhanced my ability to collaborate effectively with colleagues and contribute to the design and implementation of a cohesive mathematics curriculum.\n",
    "\n",
    "My experience as a regional manager and English teacher at QEHC further developed my leadership and communication skills. Managing three English departments across multiple sites required a high level of organization, emotional intelligence, and the ability to communicate effectively through written and oral means. I consistently ensured that policies and procedures were understood and implemented, driving learner outcomes and supporting the personal development of my team members.\n",
    "\n",
    "I am committed to continuous professional development, as evidenced by my qualifications in observation and feedback, a 150-hour master TEFL course, and a Cambridge CELTA certification. My academic background, including an MEng ACGI (Hons) in Chemical Engineering from Imperial College London, has provided me with a solid foundation in mathematics and problem-solving, which I am eager to share with my students.\n",
    "\n",
    "In addition to my teaching and management experience, I have a proven track record of achieving positive outcomes for students through innovative teaching methods and the use of diverse resources. My ability to engage with parents and guardians, provide constructive feedback, and address any concerns has been integral to my success as an educator.\n",
    "\n",
    "I am excited about the opportunity to join Ghars International, where I can leverage my extensive experience and passion for mathematics to inspire curiosity and enthusiasm in students. I am confident in my ability to work collaboratively within a team, establish positive relationships, and contribute to the wider life of the school community. I look forward to the possibility of bringing my expertise and dedication to your esteemed institution.\"''')"
   ]
  },
  {
   "cell_type": "code",
   "execution_count": 66,
   "id": "de183cdd-e1c6-4848-b315-6ba3a06ae8ff",
   "metadata": {},
   "outputs": [
    {
     "data": {
      "text/plain": [
       "\"I am an enthusiastic and devoted Mathematics Teacher with over ten years of experience, underpinned by a robust combination of teaching and management skills. My career in education has been marked by my dedication to inspiring and challenging students, fostering a deep love for mathematics, and nurturing academic excellence. The array of roles I have undertaken—ranging from a supply teacher and English coordinator to a regional manager and machine learning developer—reflects my diverse skill set and responsible approach to any task or situation.\\n\\nThroughout my career, I have consistently delivered high-quality lessons tailored to the needs and abilities of students in Key Stages 3 and 4. During my tenure as a supply teacher with Zen Educate, I effectively taught mathematical concepts and managed classroom activities, ensuring high engagement levels and on-task behavior. This resulted in a marked improvement in students' comprehension and performance, showcasing my ability to cultivate stimulating learning environments that encourage active participation and the development of critical thinking skills.\\n\\nAs an English Coordinator and instructor at Laureate Vocational Saudi Arabia, I played a pivotal role in managing multiple departments and conducting formal lesson observations. I developed and implemented teaching improvement plans, managed timetables, and provided support to senior managers with critical data for operational decisions. These efforts led to enhanced teaching quality and improved student outcomes, demonstrating my capacity for effective collaboration and curriculum design.\\n\\nMy tenure as a regional manager and English teacher at QEHC further honed my leadership and communication abilities. Overseeing three English departments across multiple sites, I demonstrated exceptional organizational skills and emotional intelligence, ensuring the consistent implementation of policies and procedures. My leadership contributed to significant improvements in learner outcomes and facilitated the professional growth of my team members.\\n\\nI am deeply committed to continuous professional development, evidenced by my qualifications in observation and feedback, a 150-hour master TEFL course, and a Cambridge CELTA certification. My academic background, including an MEng ACGI (Hons) in Chemical Engineering from Imperial College London, equips me with a solid foundation in mathematics and problem-solving, which I eagerly transmit to my students.\\n\\nMy innovative teaching methods and use of diverse resources have consistently led to positive outcomes for students. I have effectively engaged with parents and guardians, provided constructive feedback, and addressed concerns, all of which have been integral to my success as an educator. For instance, my introduction of differentiated instructions and use of technology in the classroom resulted in a 20% increase in student pass rates and significantly boosted student engagement.\\n\\nI am thrilled about the opportunity to join Ghars International, where I can leverage my extensive experience and passion for mathematics to inspire curiosity and enthusiasm in students. I am confident in my ability to work collaboratively within a team, establish positive relationships, and contribute to the broader school community. I look forward to the possibility of bringing my expertise, dedication, and innovative teaching approach to your esteemed institution.\""
      ]
     },
     "execution_count": 66,
     "metadata": {},
     "output_type": "execute_result"
    }
   ],
   "source": [
    "para.strip('/n')"
   ]
  },
  {
   "cell_type": "code",
   "execution_count": 67,
   "id": "a6ebb235-13d3-4c85-92e9-0856e5637351",
   "metadata": {},
   "outputs": [
    {
     "data": {
      "text/plain": [
       "\"I am an enthusiastic and devoted Mathematics Teacher with over ten years of experience, underpinned by a robust combination of teaching and management skills. My career in education has been marked by my dedication to inspiring and challenging students, fostering a deep love for mathematics, and nurturing academic excellence. The array of roles I have undertaken—ranging from a supply teacher and English coordinator to a regional manager and machine learning developer—reflects my diverse skill set and responsible approach to any task or situation.Throughout my career, I have consistently delivered high-quality lessons tailored to the needs and abilities of students in Key Stages 3 and 4. During my tenure as a supply teacher with Zen Educate, I effectively taught mathematical concepts and managed classroom activities, ensuring high engagement levels and on-task behavior. This resulted in a marked improvement in students' comprehension and performance, showcasing my ability to cultivate stimulating learning environments that encourage active participation and the development of critical thinking skills.As an English Coordinator and instructor at Laureate Vocational Saudi Arabia, I played a pivotal role in managing multiple departments and conducting formal lesson observations. I developed and implemented teaching improvement plans, managed timetables, and provided support to senior managers with critical data for operational decisions. These efforts led to enhanced teaching quality and improved student outcomes, demonstrating my capacity for effective collaboration and curriculum design.My tenure as a regional manager and English teacher at QEHC further honed my leadership and communication abilities. Overseeing three English departments across multiple sites, I demonstrated exceptional organizational skills and emotional intelligence, ensuring the consistent implementation of policies and procedures. My leadership contributed to significant improvements in learner outcomes and facilitated the professional growth of my team members.I am deeply committed to continuous professional development, evidenced by my qualifications in observation and feedback, a 150-hour master TEFL course, and a Cambridge CELTA certification. My academic background, including an MEng ACGI (Hons) in Chemical Engineering from Imperial College London, equips me with a solid foundation in mathematics and problem-solving, which I eagerly transmit to my students.My innovative teaching methods and use of diverse resources have consistently led to positive outcomes for students. I have effectively engaged with parents and guardians, provided constructive feedback, and addressed concerns, all of which have been integral to my success as an educator. For instance, my introduction of differentiated instructions and use of technology in the classroom resulted in a 20% increase in student pass rates and significantly boosted student engagement.I am thrilled about the opportunity to join Ghars International, where I can leverage my extensive experience and passion for mathematics to inspire curiosity and enthusiasm in students. I am confident in my ability to work collaboratively within a team, establish positive relationships, and contribute to the broader school community. I look forward to the possibility of bringing my expertise, dedication, and innovative teaching approach to your esteemed institution.\""
      ]
     },
     "execution_count": 67,
     "metadata": {},
     "output_type": "execute_result"
    }
   ],
   "source": [
    "para.replace('\\n','')"
   ]
  },
  {
   "cell_type": "markdown",
   "id": "eb7731b0-9d04-437d-8807-20e1239e0f1f",
   "metadata": {},
   "source": [
    "# elasticsearch"
   ]
  },
  {
   "cell_type": "code",
   "execution_count": 68,
   "id": "4e08e3e3-89f9-40da-aedf-a3322273d647",
   "metadata": {},
   "outputs": [],
   "source": [
    "from elasticsearch import Elasticsearch"
   ]
  },
  {
   "cell_type": "code",
   "execution_count": 69,
   "id": "7ba0da5a-1fbd-4362-839e-c74ca5e8a50e",
   "metadata": {},
   "outputs": [],
   "source": [
    "es_client=Elasticsearch('http://localhost:9200')"
   ]
  },
  {
   "cell_type": "code",
   "execution_count": 70,
   "id": "bb04debf-fe3c-4997-996a-b8a8a1d12ba5",
   "metadata": {},
   "outputs": [
    {
     "data": {
      "text/plain": [
       "ObjectApiResponse({'name': 'fa922577a214', 'cluster_name': 'docker-cluster', 'cluster_uuid': '0SrJ1D-zTeqZyr_L0VZR2Q', 'version': {'number': '8.4.3', 'build_flavor': 'default', 'build_type': 'docker', 'build_hash': '42f05b9372a9a4a470db3b52817899b99a76ee73', 'build_date': '2022-10-04T07:17:24.662462378Z', 'build_snapshot': False, 'lucene_version': '9.3.0', 'minimum_wire_compatibility_version': '7.17.0', 'minimum_index_compatibility_version': '7.0.0'}, 'tagline': 'You Know, for Search'})"
      ]
     },
     "execution_count": 70,
     "metadata": {},
     "output_type": "execute_result"
    }
   ],
   "source": [
    "es_client.info()"
   ]
  },
  {
   "cell_type": "code",
   "execution_count": 71,
   "id": "577c22ce-c7a6-4a63-84f2-879402e18fd4",
   "metadata": {},
   "outputs": [
    {
     "ename": "BadRequestError",
     "evalue": "BadRequestError(400, 'resource_already_exists_exception', 'index [course-questions/bRKgAPSETDqwNIZcPX7mBw] already exists')",
     "output_type": "error",
     "traceback": [
      "\u001b[0;31m---------------------------------------------------------------------------\u001b[0m",
      "\u001b[0;31mBadRequestError\u001b[0m                           Traceback (most recent call last)",
      "Cell \u001b[0;32mIn[71], line 16\u001b[0m\n\u001b[1;32m      1\u001b[0m index_settings\u001b[38;5;241m=\u001b[39m{\n\u001b[1;32m      2\u001b[0m     \u001b[38;5;124m\"\u001b[39m\u001b[38;5;124msettings\u001b[39m\u001b[38;5;124m\"\u001b[39m: {\n\u001b[1;32m      3\u001b[0m         \u001b[38;5;124m\"\u001b[39m\u001b[38;5;124mnumber_of_shards\u001b[39m\u001b[38;5;124m\"\u001b[39m: \u001b[38;5;241m1\u001b[39m,\n\u001b[0;32m   (...)\u001b[0m\n\u001b[1;32m     13\u001b[0m     }\n\u001b[1;32m     14\u001b[0m }\n\u001b[1;32m     15\u001b[0m index_name\u001b[38;5;241m=\u001b[39m\u001b[38;5;124m'\u001b[39m\u001b[38;5;124mcourse-questions\u001b[39m\u001b[38;5;124m'\u001b[39m\n\u001b[0;32m---> 16\u001b[0m \u001b[43mes_client\u001b[49m\u001b[38;5;241;43m.\u001b[39;49m\u001b[43mindices\u001b[49m\u001b[38;5;241;43m.\u001b[39;49m\u001b[43mcreate\u001b[49m\u001b[43m(\u001b[49m\u001b[43mindex\u001b[49m\u001b[38;5;241;43m=\u001b[39;49m\u001b[43mindex_name\u001b[49m\u001b[43m,\u001b[49m\u001b[43m \u001b[49m\u001b[43mbody\u001b[49m\u001b[38;5;241;43m=\u001b[39;49m\u001b[43mindex_settings\u001b[49m\u001b[43m)\u001b[49m\n",
      "File \u001b[0;32m/usr/local/python/3.10.13/lib/python3.10/site-packages/elasticsearch/_sync/client/utils.py:446\u001b[0m, in \u001b[0;36m_rewrite_parameters.<locals>.wrapper.<locals>.wrapped\u001b[0;34m(*args, **kwargs)\u001b[0m\n\u001b[1;32m    443\u001b[0m         \u001b[38;5;28;01mexcept\u001b[39;00m \u001b[38;5;167;01mKeyError\u001b[39;00m:\n\u001b[1;32m    444\u001b[0m             \u001b[38;5;28;01mpass\u001b[39;00m\n\u001b[0;32m--> 446\u001b[0m \u001b[38;5;28;01mreturn\u001b[39;00m \u001b[43mapi\u001b[49m\u001b[43m(\u001b[49m\u001b[38;5;241;43m*\u001b[39;49m\u001b[43margs\u001b[49m\u001b[43m,\u001b[49m\u001b[43m \u001b[49m\u001b[38;5;241;43m*\u001b[39;49m\u001b[38;5;241;43m*\u001b[39;49m\u001b[43mkwargs\u001b[49m\u001b[43m)\u001b[49m\n",
      "File \u001b[0;32m/usr/local/python/3.10.13/lib/python3.10/site-packages/elasticsearch/_sync/client/indices.py:553\u001b[0m, in \u001b[0;36mIndicesClient.create\u001b[0;34m(self, index, aliases, error_trace, filter_path, human, mappings, master_timeout, pretty, settings, timeout, wait_for_active_shards, body)\u001b[0m\n\u001b[1;32m    551\u001b[0m \u001b[38;5;28;01mif\u001b[39;00m __body \u001b[38;5;129;01mis\u001b[39;00m \u001b[38;5;129;01mnot\u001b[39;00m \u001b[38;5;28;01mNone\u001b[39;00m:\n\u001b[1;32m    552\u001b[0m     __headers[\u001b[38;5;124m\"\u001b[39m\u001b[38;5;124mcontent-type\u001b[39m\u001b[38;5;124m\"\u001b[39m] \u001b[38;5;241m=\u001b[39m \u001b[38;5;124m\"\u001b[39m\u001b[38;5;124mapplication/json\u001b[39m\u001b[38;5;124m\"\u001b[39m\n\u001b[0;32m--> 553\u001b[0m \u001b[38;5;28;01mreturn\u001b[39;00m \u001b[38;5;28;43mself\u001b[39;49m\u001b[38;5;241;43m.\u001b[39;49m\u001b[43mperform_request\u001b[49m\u001b[43m(\u001b[49m\u001b[43m  \u001b[49m\u001b[38;5;66;43;03m# type: ignore[return-value]\u001b[39;49;00m\n\u001b[1;32m    554\u001b[0m \u001b[43m    \u001b[49m\u001b[38;5;124;43m\"\u001b[39;49m\u001b[38;5;124;43mPUT\u001b[39;49m\u001b[38;5;124;43m\"\u001b[39;49m\u001b[43m,\u001b[49m\n\u001b[1;32m    555\u001b[0m \u001b[43m    \u001b[49m\u001b[43m__path\u001b[49m\u001b[43m,\u001b[49m\n\u001b[1;32m    556\u001b[0m \u001b[43m    \u001b[49m\u001b[43mparams\u001b[49m\u001b[38;5;241;43m=\u001b[39;49m\u001b[43m__query\u001b[49m\u001b[43m,\u001b[49m\n\u001b[1;32m    557\u001b[0m \u001b[43m    \u001b[49m\u001b[43mheaders\u001b[49m\u001b[38;5;241;43m=\u001b[39;49m\u001b[43m__headers\u001b[49m\u001b[43m,\u001b[49m\n\u001b[1;32m    558\u001b[0m \u001b[43m    \u001b[49m\u001b[43mbody\u001b[49m\u001b[38;5;241;43m=\u001b[39;49m\u001b[43m__body\u001b[49m\u001b[43m,\u001b[49m\n\u001b[1;32m    559\u001b[0m \u001b[43m    \u001b[49m\u001b[43mendpoint_id\u001b[49m\u001b[38;5;241;43m=\u001b[39;49m\u001b[38;5;124;43m\"\u001b[39;49m\u001b[38;5;124;43mindices.create\u001b[39;49m\u001b[38;5;124;43m\"\u001b[39;49m\u001b[43m,\u001b[49m\n\u001b[1;32m    560\u001b[0m \u001b[43m    \u001b[49m\u001b[43mpath_parts\u001b[49m\u001b[38;5;241;43m=\u001b[39;49m\u001b[43m__path_parts\u001b[49m\u001b[43m,\u001b[49m\n\u001b[1;32m    561\u001b[0m \u001b[43m\u001b[49m\u001b[43m)\u001b[49m\n",
      "File \u001b[0;32m/usr/local/python/3.10.13/lib/python3.10/site-packages/elasticsearch/_sync/client/_base.py:423\u001b[0m, in \u001b[0;36mNamespacedClient.perform_request\u001b[0;34m(self, method, path, params, headers, body, endpoint_id, path_parts)\u001b[0m\n\u001b[1;32m    410\u001b[0m \u001b[38;5;28;01mdef\u001b[39;00m \u001b[38;5;21mperform_request\u001b[39m(\n\u001b[1;32m    411\u001b[0m     \u001b[38;5;28mself\u001b[39m,\n\u001b[1;32m    412\u001b[0m     method: \u001b[38;5;28mstr\u001b[39m,\n\u001b[0;32m   (...)\u001b[0m\n\u001b[1;32m    421\u001b[0m     \u001b[38;5;66;03m# Use the internal clients .perform_request() implementation\u001b[39;00m\n\u001b[1;32m    422\u001b[0m     \u001b[38;5;66;03m# so we take advantage of their transport options.\u001b[39;00m\n\u001b[0;32m--> 423\u001b[0m     \u001b[38;5;28;01mreturn\u001b[39;00m \u001b[38;5;28;43mself\u001b[39;49m\u001b[38;5;241;43m.\u001b[39;49m\u001b[43m_client\u001b[49m\u001b[38;5;241;43m.\u001b[39;49m\u001b[43mperform_request\u001b[49m\u001b[43m(\u001b[49m\n\u001b[1;32m    424\u001b[0m \u001b[43m        \u001b[49m\u001b[43mmethod\u001b[49m\u001b[43m,\u001b[49m\n\u001b[1;32m    425\u001b[0m \u001b[43m        \u001b[49m\u001b[43mpath\u001b[49m\u001b[43m,\u001b[49m\n\u001b[1;32m    426\u001b[0m \u001b[43m        \u001b[49m\u001b[43mparams\u001b[49m\u001b[38;5;241;43m=\u001b[39;49m\u001b[43mparams\u001b[49m\u001b[43m,\u001b[49m\n\u001b[1;32m    427\u001b[0m \u001b[43m        \u001b[49m\u001b[43mheaders\u001b[49m\u001b[38;5;241;43m=\u001b[39;49m\u001b[43mheaders\u001b[49m\u001b[43m,\u001b[49m\n\u001b[1;32m    428\u001b[0m \u001b[43m        \u001b[49m\u001b[43mbody\u001b[49m\u001b[38;5;241;43m=\u001b[39;49m\u001b[43mbody\u001b[49m\u001b[43m,\u001b[49m\n\u001b[1;32m    429\u001b[0m \u001b[43m        \u001b[49m\u001b[43mendpoint_id\u001b[49m\u001b[38;5;241;43m=\u001b[39;49m\u001b[43mendpoint_id\u001b[49m\u001b[43m,\u001b[49m\n\u001b[1;32m    430\u001b[0m \u001b[43m        \u001b[49m\u001b[43mpath_parts\u001b[49m\u001b[38;5;241;43m=\u001b[39;49m\u001b[43mpath_parts\u001b[49m\u001b[43m,\u001b[49m\n\u001b[1;32m    431\u001b[0m \u001b[43m    \u001b[49m\u001b[43m)\u001b[49m\n",
      "File \u001b[0;32m/usr/local/python/3.10.13/lib/python3.10/site-packages/elasticsearch/_sync/client/_base.py:271\u001b[0m, in \u001b[0;36mBaseClient.perform_request\u001b[0;34m(self, method, path, params, headers, body, endpoint_id, path_parts)\u001b[0m\n\u001b[1;32m    255\u001b[0m \u001b[38;5;28;01mdef\u001b[39;00m \u001b[38;5;21mperform_request\u001b[39m(\n\u001b[1;32m    256\u001b[0m     \u001b[38;5;28mself\u001b[39m,\n\u001b[1;32m    257\u001b[0m     method: \u001b[38;5;28mstr\u001b[39m,\n\u001b[0;32m   (...)\u001b[0m\n\u001b[1;32m    264\u001b[0m     path_parts: Optional[Mapping[\u001b[38;5;28mstr\u001b[39m, Any]] \u001b[38;5;241m=\u001b[39m \u001b[38;5;28;01mNone\u001b[39;00m,\n\u001b[1;32m    265\u001b[0m ) \u001b[38;5;241m-\u001b[39m\u001b[38;5;241m>\u001b[39m ApiResponse[Any]:\n\u001b[1;32m    266\u001b[0m     \u001b[38;5;28;01mwith\u001b[39;00m \u001b[38;5;28mself\u001b[39m\u001b[38;5;241m.\u001b[39m_otel\u001b[38;5;241m.\u001b[39mspan(\n\u001b[1;32m    267\u001b[0m         method,\n\u001b[1;32m    268\u001b[0m         endpoint_id\u001b[38;5;241m=\u001b[39mendpoint_id,\n\u001b[1;32m    269\u001b[0m         path_parts\u001b[38;5;241m=\u001b[39mpath_parts \u001b[38;5;129;01mor\u001b[39;00m {},\n\u001b[1;32m    270\u001b[0m     ) \u001b[38;5;28;01mas\u001b[39;00m otel_span:\n\u001b[0;32m--> 271\u001b[0m         response \u001b[38;5;241m=\u001b[39m \u001b[38;5;28;43mself\u001b[39;49m\u001b[38;5;241;43m.\u001b[39;49m\u001b[43m_perform_request\u001b[49m\u001b[43m(\u001b[49m\n\u001b[1;32m    272\u001b[0m \u001b[43m            \u001b[49m\u001b[43mmethod\u001b[49m\u001b[43m,\u001b[49m\n\u001b[1;32m    273\u001b[0m \u001b[43m            \u001b[49m\u001b[43mpath\u001b[49m\u001b[43m,\u001b[49m\n\u001b[1;32m    274\u001b[0m \u001b[43m            \u001b[49m\u001b[43mparams\u001b[49m\u001b[38;5;241;43m=\u001b[39;49m\u001b[43mparams\u001b[49m\u001b[43m,\u001b[49m\n\u001b[1;32m    275\u001b[0m \u001b[43m            \u001b[49m\u001b[43mheaders\u001b[49m\u001b[38;5;241;43m=\u001b[39;49m\u001b[43mheaders\u001b[49m\u001b[43m,\u001b[49m\n\u001b[1;32m    276\u001b[0m \u001b[43m            \u001b[49m\u001b[43mbody\u001b[49m\u001b[38;5;241;43m=\u001b[39;49m\u001b[43mbody\u001b[49m\u001b[43m,\u001b[49m\n\u001b[1;32m    277\u001b[0m \u001b[43m            \u001b[49m\u001b[43motel_span\u001b[49m\u001b[38;5;241;43m=\u001b[39;49m\u001b[43motel_span\u001b[49m\u001b[43m,\u001b[49m\n\u001b[1;32m    278\u001b[0m \u001b[43m        \u001b[49m\u001b[43m)\u001b[49m\n\u001b[1;32m    279\u001b[0m         otel_span\u001b[38;5;241m.\u001b[39mset_elastic_cloud_metadata(response\u001b[38;5;241m.\u001b[39mmeta\u001b[38;5;241m.\u001b[39mheaders)\n\u001b[1;32m    280\u001b[0m         \u001b[38;5;28;01mreturn\u001b[39;00m response\n",
      "File \u001b[0;32m/usr/local/python/3.10.13/lib/python3.10/site-packages/elasticsearch/_sync/client/_base.py:352\u001b[0m, in \u001b[0;36mBaseClient._perform_request\u001b[0;34m(self, method, path, params, headers, body, otel_span)\u001b[0m\n\u001b[1;32m    349\u001b[0m         \u001b[38;5;28;01mexcept\u001b[39;00m (\u001b[38;5;167;01mValueError\u001b[39;00m, \u001b[38;5;167;01mKeyError\u001b[39;00m, \u001b[38;5;167;01mTypeError\u001b[39;00m):\n\u001b[1;32m    350\u001b[0m             \u001b[38;5;28;01mpass\u001b[39;00m\n\u001b[0;32m--> 352\u001b[0m     \u001b[38;5;28;01mraise\u001b[39;00m HTTP_EXCEPTIONS\u001b[38;5;241m.\u001b[39mget(meta\u001b[38;5;241m.\u001b[39mstatus, ApiError)(\n\u001b[1;32m    353\u001b[0m         message\u001b[38;5;241m=\u001b[39mmessage, meta\u001b[38;5;241m=\u001b[39mmeta, body\u001b[38;5;241m=\u001b[39mresp_body\n\u001b[1;32m    354\u001b[0m     )\n\u001b[1;32m    356\u001b[0m \u001b[38;5;66;03m# 'X-Elastic-Product: Elasticsearch' should be on every 2XX response.\u001b[39;00m\n\u001b[1;32m    357\u001b[0m \u001b[38;5;28;01mif\u001b[39;00m \u001b[38;5;129;01mnot\u001b[39;00m \u001b[38;5;28mself\u001b[39m\u001b[38;5;241m.\u001b[39m_verified_elasticsearch:\n\u001b[1;32m    358\u001b[0m     \u001b[38;5;66;03m# If the header is set we mark the server as verified.\u001b[39;00m\n",
      "\u001b[0;31mBadRequestError\u001b[0m: BadRequestError(400, 'resource_already_exists_exception', 'index [course-questions/bRKgAPSETDqwNIZcPX7mBw] already exists')"
     ]
    }
   ],
   "source": [
    "index_settings={\n",
    "    \"settings\": {\n",
    "        \"number_of_shards\": 1,\n",
    "        \"number_of_replicas\": 0\n",
    "    },\n",
    "    \"mappings\": {\n",
    "        \"properties\": {\n",
    "            \"text\": {\"type\": \"text\"},\n",
    "            \"section\": {\"type\": \"text\"},\n",
    "            \"question\": {\"type\": \"text\"},\n",
    "            \"course\": {\"type\": \"keyword\"} \n",
    "        }\n",
    "    }\n",
    "}\n",
    "index_name='course-questions'\n",
    "es_client.indices.create(index=index_name, body=index_settings)"
   ]
  },
  {
   "cell_type": "code",
   "execution_count": 72,
   "id": "91a6291f-f8b5-483d-b7f1-d20c3914b964",
   "metadata": {},
   "outputs": [
    {
     "name": "stderr",
     "output_type": "stream",
     "text": [
      "/usr/local/python/3.10.13/lib/python3.10/site-packages/tqdm/auto.py:21: TqdmWarning: IProgress not found. Please update jupyter and ipywidgets. See https://ipywidgets.readthedocs.io/en/stable/user_install.html\n",
      "  from .autonotebook import tqdm as notebook_tqdm\n"
     ]
    }
   ],
   "source": [
    "from tqdm.auto import tqdm"
   ]
  },
  {
   "cell_type": "code",
   "execution_count": 73,
   "id": "6abffcf3-cd02-470f-9b64-2153683500af",
   "metadata": {},
   "outputs": [
    {
     "name": "stderr",
     "output_type": "stream",
     "text": [
      "100%|█████████████████████████████████████████████████████████████████████████████████████████████████████████████| 948/948 [00:26<00:00, 36.17it/s]\n"
     ]
    }
   ],
   "source": [
    "for doc in tqdm(documents):\n",
    "    es_client.index(index=index_name, document=doc)"
   ]
  },
  {
   "cell_type": "code",
   "execution_count": 74,
   "id": "c8b87d73-8d3d-443e-8368-9725d4a459dc",
   "metadata": {},
   "outputs": [],
   "source": [
    "query='I just discovered the course. Can I still join it?'"
   ]
  },
  {
   "cell_type": "code",
   "execution_count": 75,
   "id": "19f2bacd-b482-40f7-a047-2b2f15ebaf75",
   "metadata": {},
   "outputs": [],
   "source": [
    "def elastic_search(query):\n",
    "    search_query={\n",
    "        \"size\": 5,\n",
    "        \"query\": {\n",
    "            \"bool\": {\n",
    "                \"must\": {\n",
    "                    \"multi_match\": {\n",
    "                        \"query\": query,\n",
    "                        \"fields\": [\"question^3\", \"text\", \"section\"],\n",
    "                        \"type\": \"best_fields\"\n",
    "                    }\n",
    "                }\n",
    "            }\n",
    "        }\n",
    "    }\n",
    "    response=es_client.search(index=index_name, body=search_query)\n",
    "    result_doc=[]\n",
    "    for hit in response['hits']['hits']:\n",
    "        result_doc.append(hit['_source'])\n",
    "    return result_doc"
   ]
  },
  {
   "cell_type": "code",
   "execution_count": 76,
   "id": "a3790314-f5aa-49d9-8714-bdda2e495f39",
   "metadata": {},
   "outputs": [
    {
     "data": {
      "text/plain": [
       "[{'text': 'Yes, you can. You won’t be able to submit some of the homeworks, but you can still take part in the course.\\nIn order to get a certificate, you need to submit 2 out of 3 course projects and review 3 peers’ Projects by the deadline. It means that if you join the course at the end of November and manage to work on two projects, you will still be eligible for a certificate.',\n",
       "  'section': 'General course-related questions',\n",
       "  'question': 'The course has already started. Can I still join it?',\n",
       "  'course': 'machine-learning-zoomcamp'},\n",
       " {'text': 'Yes, you can. You won’t be able to submit some of the homeworks, but you can still take part in the course.\\nIn order to get a certificate, you need to submit 2 out of 3 course projects and review 3 peers’ Projects by the deadline. It means that if you join the course at the end of November and manage to work on two projects, you will still be eligible for a certificate.',\n",
       "  'section': 'General course-related questions',\n",
       "  'question': 'The course has already started. Can I still join it?',\n",
       "  'course': 'machine-learning-zoomcamp'},\n",
       " {'text': 'Yes, you can. You won’t be able to submit some of the homeworks, but you can still take part in the course.\\nIn order to get a certificate, you need to submit 2 out of 3 course projects and review 3 peers’ Projects by the deadline. It means that if you join the course at the end of November and manage to work on two projects, you will still be eligible for a certificate.',\n",
       "  'section': 'General course-related questions',\n",
       "  'question': 'The course has already started. Can I still join it?',\n",
       "  'course': 'machine-learning-zoomcamp'},\n",
       " {'text': 'Yes, you can. You won’t be able to submit some of the homeworks, but you can still take part in the course.\\nIn order to get a certificate, you need to submit 2 out of 3 course projects and review 3 peers’ Projects by the deadline. It means that if you join the course at the end of November and manage to work on two projects, you will still be eligible for a certificate.',\n",
       "  'section': 'General course-related questions',\n",
       "  'question': 'The course has already started. Can I still join it?',\n",
       "  'course': 'machine-learning-zoomcamp'},\n",
       " {'text': 'Yes, you can. You won’t be able to submit some of the homeworks, but you can still take part in the course.\\nIn order to get a certificate, you need to submit 2 out of 3 course projects and review 3 peers’ Projects by the deadline. It means that if you join the course at the end of November and manage to work on two projects, you will still be eligible for a certificate.',\n",
       "  'section': 'General course-related questions',\n",
       "  'question': 'The course has already started. Can I still join it?',\n",
       "  'course': 'machine-learning-zoomcamp'}]"
      ]
     },
     "execution_count": 76,
     "metadata": {},
     "output_type": "execute_result"
    }
   ],
   "source": [
    "elastic_search(query)"
   ]
  },
  {
   "cell_type": "code",
   "execution_count": 77,
   "id": "3463e46a-4900-46e1-bcf3-45cb9fa7cc39",
   "metadata": {},
   "outputs": [],
   "source": [
    "query = 'how do I run kafka?'\n",
    "\n",
    "def rag(query):\n",
    "    search_results = elastic_search(query)\n",
    "    prompt = build_prompt(query, search_results)\n",
    "    answer = llm(prompt)\n",
    "    return answer"
   ]
  },
  {
   "cell_type": "code",
   "execution_count": 78,
   "id": "f08465dc-7b10-4d8e-9da9-b2ce47c56026",
   "metadata": {},
   "outputs": [
    {
     "data": {
      "text/plain": [
       "'Yes, you can still join the course even if it has already started. You won’t be able to submit some of the homeworks, but you can still participate in the course activities. If you are looking to get a certificate, you need to submit 2 out of the 3 course projects and review 3 of your peers’ projects by the given deadline. This means that even if you join the course late, as long as you complete these requirements, you will still be eligible for a certificate.'"
      ]
     },
     "execution_count": 78,
     "metadata": {},
     "output_type": "execute_result"
    }
   ],
   "source": [
    "query='I just discovered the course. Can I still join it?'\n",
    "rag(query)"
   ]
  },
  {
   "cell_type": "code",
   "execution_count": 87,
   "id": "f0db3b2b-38b0-48e1-a0c8-a38586d0dd98",
   "metadata": {},
   "outputs": [
    {
     "data": {
      "text/plain": [
       "'We have a course on Data Engineering.'"
      ]
     },
     "execution_count": 87,
     "metadata": {},
     "output_type": "execute_result"
    }
   ],
   "source": [
    "query='Which course do you have?'\n",
    "rag(query)"
   ]
  },
  {
   "cell_type": "code",
   "execution_count": 86,
   "id": "02fb3801-cb04-4c3f-90ed-308041bd7500",
   "metadata": {},
   "outputs": [
    {
     "data": {
      "text/plain": [
       "'The machine learning course runs for approximately 4 months. The exact start date is not provided in the context. If you want to do extra activities such as an extra project or writing an article, it may take more time.'"
      ]
     },
     "execution_count": 86,
     "metadata": {},
     "output_type": "execute_result"
    }
   ],
   "source": [
    "query='When is the machine learning course starting? and how long is it running for?'\n",
    "rag(query)"
   ]
  },
  {
   "cell_type": "code",
   "execution_count": 81,
   "id": "1effb522-c6bf-448a-92c8-c3ef018a7e7b",
   "metadata": {},
   "outputs": [
    {
     "data": {
      "text/plain": [
       "'The provided context does not contain information about the starting date or the duration of the Machine Learning Zoomcamp. To find that information, you might need to contact the organizers directly or refer to the official website or course materials for the Zoomcamp.'"
      ]
     },
     "execution_count": 81,
     "metadata": {},
     "output_type": "execute_result"
    }
   ],
   "source": [
    "query='When is the machine learning zoomcamp starting? and how long is it running for?'\n",
    "rag(query)"
   ]
  },
  {
   "cell_type": "code",
   "execution_count": 82,
   "id": "68bb7391-3b91-4eb2-adbc-ae52038b8125",
   "metadata": {},
   "outputs": [
    {
     "data": {
      "text/plain": [
       "'The provided context does not include any information regarding the issuance of certificates for those who finish the course successfully. Please refer to other sections of the FAQ database or contact the course coordinator for more details.'"
      ]
     },
     "execution_count": 82,
     "metadata": {},
     "output_type": "execute_result"
    }
   ],
   "source": [
    "query='Will there be a certificate given to those who finish the course successfully?'\n",
    "rag(query)"
   ]
  },
  {
   "cell_type": "code",
   "execution_count": 85,
   "id": "564a10e3-552b-475f-99bd-9f08fdd2d73a",
   "metadata": {},
   "outputs": [
    {
     "data": {
      "text/plain": [
       "'The CONTEXT provided does not contain information about the number of courses. Therefore, I cannot provide an answer to the QUESTION based on the available CONTEXT.'"
      ]
     },
     "execution_count": 85,
     "metadata": {},
     "output_type": "execute_result"
    }
   ],
   "source": [
    "query='how many courses do you have?'\n",
    "rag(query)"
   ]
  },
  {
   "cell_type": "code",
   "execution_count": null,
   "id": "9ed692a2-3ac5-496b-a6a3-27fcf30cae7b",
   "metadata": {},
   "outputs": [],
   "source": []
  },
  {
   "cell_type": "code",
   "execution_count": null,
   "id": "b67cd97c-a9e7-4f61-8da7-0ad0688b360f",
   "metadata": {},
   "outputs": [],
   "source": []
  }
 ],
 "metadata": {
  "kernelspec": {
   "display_name": "Python 3 (ipykernel)",
   "language": "python",
   "name": "python3"
  },
  "language_info": {
   "codemirror_mode": {
    "name": "ipython",
    "version": 3
   },
   "file_extension": ".py",
   "mimetype": "text/x-python",
   "name": "python",
   "nbconvert_exporter": "python",
   "pygments_lexer": "ipython3",
   "version": "3.10.13"
  }
 },
 "nbformat": 4,
 "nbformat_minor": 5
}
